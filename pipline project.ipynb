{
 "cells": [
  {
   "cell_type": "markdown",
   "id": "d5deec53-e246-4f09-884c-a343f09950ba",
   "metadata": {},
   "source": [
    "\n",
    "<span style=\"font-weight:bold; color:#4CAF50; font-size:28px;\">\n",
    "TASK 1-DATA PIPELINE\n",
    "DEVELOPMENT<span>\n",
    "\n",
    "<div style=\"font-family: Arial, sans-serif; text-align: left; background-color: #f2f2f2; padding: 10px; border-radius: 5px;\">\n",
    "    <span style=\"font-weight: bold; color: #4CAF50; font-size: 20px;\">Author: Bisma yb</span><br>\n",
    "    <span style=\"font-weight: bold; color: #FF9800; font-size: 18px;\">Domain: Data Science</span><br>\n",
    "</div>\n",
    "\n",
    "\n"
   ]
  },
  {
   "cell_type": "markdown",
   "id": "c858e20b-b4eb-4d17-8b16-9ce2de993d9f",
   "metadata": {},
   "source": [
    "About this file\n",
    "\n",
    "This dataset contains 11,768 records of laptops with various hardware specifications and prices. It is designed for predictive modeling,\n",
    "price estimation, and exploratory data analysis.\n",
    "The dataset includes real-world values to reflect the factors that influence laptop prices."
   ]
  },
  {
   "cell_type": "code",
   "execution_count": 14,
   "id": "035cb626-035e-4254-9711-2886ce58cc5b",
   "metadata": {},
   "outputs": [
    {
     "name": "stdout",
     "output_type": "stream",
     "text": [
      "<class 'pandas.core.frame.DataFrame'>\n",
      "RangeIndex: 11768 entries, 0 to 11767\n",
      "Data columns (total 11 columns):\n",
      " #   Column                Non-Null Count  Dtype  \n",
      "---  ------                --------------  -----  \n",
      " 0   Brand                 11768 non-null  object \n",
      " 1   Processor             11768 non-null  object \n",
      " 2   RAM (GB)              11768 non-null  int64  \n",
      " 3   Storage               11768 non-null  object \n",
      " 4   GPU                   11768 non-null  object \n",
      " 5   Screen Size (inch)    11768 non-null  float64\n",
      " 6   Resolution            11768 non-null  object \n",
      " 7   Battery Life (hours)  11768 non-null  float64\n",
      " 8   Weight (kg)           11768 non-null  float64\n",
      " 9   Operating System      11768 non-null  object \n",
      " 10  Price ($)             11768 non-null  float64\n",
      "dtypes: float64(4), int64(1), object(6)\n",
      "memory usage: 1011.4+ KB\n"
     ]
    },
    {
     "data": {
      "text/plain": [
       "(None,\n",
       "     Brand    Processor  RAM (GB)    Storage                 GPU  \\\n",
       " 0   Apple  AMD Ryzen 3        64  512GB SSD     Nvidia GTX 1650   \n",
       " 1   Razer  AMD Ryzen 7         4    1TB SSD     Nvidia RTX 3080   \n",
       " 2    Asus     Intel i5        32    2TB SSD     Nvidia RTX 3060   \n",
       " 3  Lenovo     Intel i5         4  256GB SSD     Nvidia RTX 3080   \n",
       " 4   Razer     Intel i3         4  256GB SSD  AMD Radeon RX 6600   \n",
       " \n",
       "    Screen Size (inch) Resolution  Battery Life (hours)  Weight (kg)  \\\n",
       " 0                17.3  2560x1440                   8.9         1.42   \n",
       " 1                14.0   1366x768                   9.4         2.57   \n",
       " 2                13.3  3840x2160                   8.5         1.74   \n",
       " 3                13.3   1366x768                  10.5         3.10   \n",
       " 4                16.0  3840x2160                   5.7         3.38   \n",
       " \n",
       "   Operating System  Price ($)  \n",
       " 0          FreeDOS    3997.07  \n",
       " 1            Linux    1355.78  \n",
       " 2          FreeDOS    2673.07  \n",
       " 3          Windows     751.17  \n",
       " 4            Linux    2059.83  )"
      ]
     },
     "execution_count": 14,
     "metadata": {},
     "output_type": "execute_result"
    }
   ],
   "source": [
    "import pandas as pd\n",
    "\n",
    "# Load the dataset\n",
    "file_path = \"C:/Users/Admin/Downloads/laptop_prices.csv\"\n",
    "df = pd.read_csv(file_path)\n",
    "\n",
    "# Display basic information and first few rows\n",
    "df.info(), df.head()\n"
   ]
  },
  {
   "cell_type": "code",
   "execution_count": 15,
   "id": "9df37a3e-3063-4f6d-81f7-eaff21be8730",
   "metadata": {},
   "outputs": [],
   "source": [
    "from sklearn.preprocessing import StandardScaler, OneHotEncoder\n",
    "from sklearn.impute import SimpleImputer\n",
    "from sklearn.compose import ColumnTransformer\n",
    "from sklearn.pipeline import Pipeline\n",
    "\n",
    "# Identifying numerical and categorical columns\n",
    "numerical_features = [\"RAM (GB)\", \"Screen Size (inch)\", \"Battery Life (hours)\", \"Weight (kg)\", \"Price ($)\"]\n",
    "categorical_features = [\"Brand\", \"Processor\", \"Storage\", \"GPU\", \"Resolution\", \"Operating System\"]\n",
    "\n",
    "# Handling missing values\n",
    "num_imputer = SimpleImputer(strategy='mean')\n",
    "cat_imputer = SimpleImputer(strategy='most_frequent')\n",
    "\n",
    "# Scaling numerical features\n",
    "scaler = StandardScaler()\n",
    "\n",
    "# Encoding categorical features\n",
    "encoder = OneHotEncoder(handle_unknown='ignore')\n",
    "\n",
    "# Creating pipelines\n",
    "num_pipeline = Pipeline([\n",
    "    ('imputer', num_imputer),\n",
    "    ('scaler', scaler)\n",
    "])\n",
    "\n",
    "cat_pipeline = Pipeline([\n",
    "    ('imputer', cat_imputer),\n",
    "    ('encoder', encoder)\n",
    "])\n",
    "\n",
    "# Applying transformations\n",
    "preprocessor = ColumnTransformer([\n",
    "    ('num', num_pipeline, numerical_features),\n",
    "    ('cat', cat_pipeline, categorical_features)\n",
    "])\n",
    "\n"
   ]
  },
  {
   "cell_type": "code",
   "execution_count": 17,
   "id": "98092d89-7dc1-4cd5-b608-e5a256bc69c0",
   "metadata": {},
   "outputs": [
    {
     "name": "stdout",
     "output_type": "stream",
     "text": [
      "Processed data saved successfully!\n"
     ]
    }
   ],
   "source": [
    "# Convert sparse matrix to dense format\n",
    "processed_data_dense = processed_data.toarray()\n",
    "\n",
    "# Convert to DataFrame\n",
    "processed_df = pd.DataFrame(processed_data_dense, columns=feature_names)\n",
    "\n",
    "# Save processed dataset\n",
    "processed_df.to_csv(\"processed_laptop_prices.csv\", index=False)\n",
    "\n",
    "print(\"Processed data saved successfully!\")\n"
   ]
  },
  {
   "cell_type": "markdown",
   "id": "4b682845-27b0-4db1-9cbe-ab0330017fd8",
   "metadata": {},
   "source": [
    "Insights from the Data\n",
    "\n",
    "Price Variation:\n",
    "The dataset contains laptops with a wide range of prices, from low-budget to high-end gaming/workstations.\n",
    "Brands like Apple, Razer, and Asus have higher average prices.\n",
    "\n",
    "Impact of Specifications on Price:\n",
    "\n",
    "RAM & Storage: More RAM (GB) and larger SSD storage tend to increase price.\n",
    "Processor & GPU: Laptops with high-end GPUs (e.g., Nvidia RTX 3080) are significantly more expensive.\n",
    "Screen Resolution: Higher resolutions (4K/3840x2160) increase price.\n",
    "Feature Engineering Insights:\n",
    "\n",
    "Storage was initially text-based (e.g., \"512GB SSD\"). We extracted the numeric storage size.\n",
    "Categorical Encoding: Transformed Brand, Processor, GPU, etc., into numerical values.\n",
    "\n"
   ]
  },
  {
   "cell_type": "code",
   "execution_count": null,
   "id": "0cf2d9a7-3a91-4c96-b6e5-0d9d1a1f059f",
   "metadata": {},
   "outputs": [],
   "source": []
  },
  {
   "cell_type": "code",
   "execution_count": null,
   "id": "c6d44972-f882-4632-9d0f-4b5c975876b3",
   "metadata": {},
   "outputs": [],
   "source": []
  },
  {
   "cell_type": "code",
   "execution_count": null,
   "id": "1eaec708-a98d-48e2-9370-ae62e2e7e4ca",
   "metadata": {},
   "outputs": [],
   "source": []
  },
  {
   "cell_type": "code",
   "execution_count": null,
   "id": "ef05b073-7b9e-493b-a19b-603b239be45d",
   "metadata": {},
   "outputs": [],
   "source": []
  }
 ],
 "metadata": {
  "kernelspec": {
   "display_name": "Python 3 (ipykernel)",
   "language": "python",
   "name": "python3"
  },
  "language_info": {
   "codemirror_mode": {
    "name": "ipython",
    "version": 3
   },
   "file_extension": ".py",
   "mimetype": "text/x-python",
   "name": "python",
   "nbconvert_exporter": "python",
   "pygments_lexer": "ipython3",
   "version": "3.12.4"
  }
 },
 "nbformat": 4,
 "nbformat_minor": 5
}
